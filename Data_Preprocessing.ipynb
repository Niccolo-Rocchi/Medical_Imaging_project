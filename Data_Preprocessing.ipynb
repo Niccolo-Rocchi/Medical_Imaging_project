{
  "nbformat": 4,
  "nbformat_minor": 0,
  "metadata": {
    "colab": {
      "provenance": [],
      "authorship_tag": "ABX9TyPMgM/dEYCTAPIUsc973ltH",
      "include_colab_link": true
    },
    "kernelspec": {
      "name": "python3",
      "display_name": "Python 3"
    },
    "language_info": {
      "name": "python"
    }
  },
  "cells": [
    {
      "cell_type": "markdown",
      "metadata": {
        "id": "view-in-github",
        "colab_type": "text"
      },
      "source": [
        "<a href=\"https://colab.research.google.com/github/Niccolo-Rocchi/Medical_Imaging_project/blob/main/Data_Preprocessing.ipynb\" target=\"_parent\"><img src=\"https://colab.research.google.com/assets/colab-badge.svg\" alt=\"Open In Colab\"/></a>"
      ]
    },
    {
      "cell_type": "markdown",
      "source": [
        "# Semantic Segmentation on Pneuomothorax dataset\n",
        "\n",
        "\n",
        "---\n",
        "\n",
        "\n",
        "Task: Binary Mask Prediction (Pneuomothorax Area) \n",
        "\n",
        "Pneuomothorax Challenge: https://siim.org/page/pneumothorax_challenge\n",
        "\n",
        "*Authors: Pirola Federico, Rocchi Niccolò*\n",
        "\n",
        "*Università degli studi di Milano-Bicocca, Milan, Italy*"
      ],
      "metadata": {
        "id": "Y0G75wwZeluX"
      }
    },
    {
      "cell_type": "markdown",
      "source": [
        "# Data Preprocessing"
      ],
      "metadata": {
        "id": "FnbaE5-q1kF4"
      }
    },
    {
      "cell_type": "markdown",
      "source": [
        "## Imports"
      ],
      "metadata": {
        "id": "rpUjfQov1xtp"
      }
    },
    {
      "cell_type": "code",
      "execution_count": null,
      "metadata": {
        "id": "Y9Wl_73Mz8XO"
      },
      "outputs": [],
      "source": [
        "%%capture \n",
        "!pip install pydicom"
      ]
    },
    {
      "cell_type": "code",
      "execution_count": null,
      "metadata": {
        "id": "NVqMeQ_GxbHh"
      },
      "outputs": [],
      "source": [
        "# For reading files\n",
        "from pydicom import dcmread \n",
        "import glob\n",
        "from google.colab import drive\n",
        "# For dealing with data\n",
        "import numpy as np\n",
        "import pandas as pd\n",
        "import re\n",
        "import random\n",
        "random.seed(123)\n",
        "import os\n",
        "# Sklearn utils\n",
        "from sklearn.model_selection import train_test_split"
      ]
    },
    {
      "cell_type": "code",
      "execution_count": null,
      "metadata": {
        "colab": {
          "base_uri": "https://localhost:8080/"
        },
        "id": "yg9w3Cm-01pp",
        "outputId": "610be82c-e5bc-41bd-dfe0-4811d8294469"
      },
      "outputs": [
        {
          "output_type": "stream",
          "name": "stdout",
          "text": [
            "Mounted at /content/drive/\n",
            "/content/drive/.shortcut-targets-by-id/1YbGUVvpEjZVVfuIQhnDIUOGgMhN2UDrk/pneumotorax_data\n"
          ]
        }
      ],
      "source": [
        "# Mount Drive data\n",
        "drive.mount('/content/drive/')\n",
        "%cd /content/drive/MyDrive/pneumotorax_data"
      ]
    },
    {
      "cell_type": "markdown",
      "source": [
        "## Train and Validation sets Creation"
      ],
      "metadata": {
        "id": "Y0Y4Uyeo1C_Z"
      }
    },
    {
      "cell_type": "code",
      "source": [
        "# Read .csv file\n",
        "myDB = pd.read_csv('./encoded_pixels.csv')\n",
        "\n",
        "# Add patient variables\n",
        "myDB['Health'] = np.zeros((len(myDB)),dtype=bool)\n",
        "myDB['Age'] = np.zeros((len(myDB)),dtype=np.int32)\n",
        "myDB['PneumothArea'] = np.zeros((len(myDB)),dtype=np.float32)\n",
        "myDB['Sex'] = 'N/A'\n",
        "myDB['HasFile'] = False\n",
        "myDB['Position'] = 'N/A'\n",
        "\n",
        "for rowIdx,pat in myDB.iterrows():\n",
        "    fName = os.path.join('/content/gdrive/MyDrive/Med Imaging/train_whole/dicom_files',pat['ImageId'] + '.dcm')\n",
        "    if not os.path.isfile(fName):\n",
        "        continue\n",
        "    dcmHead = dcmread(fName)\n",
        "    myDB.loc[rowIdx,['Sex']]=dcmHead.PatientSex\n",
        "    myDB.loc[rowIdx,['Age']]=int(dcmHead.PatientAge)\n",
        "    myDB.loc[rowIdx,['HasFile']]=True\n",
        "    myDB.loc[rowIdx,['Position']]=dcmHead.ViewPosition\n",
        "    if '-1' in pat[1]:\n",
        "        myDB.loc[rowIdx,['Health']]=True\n",
        "    else:\n",
        "        rleList = np.array([int(s) for s in pat[1].split() ])\n",
        "        nPix = rleList[1::2]\n",
        "        myDB.loc[rowIdx,['PneumArea']]=np.sum(nPix)*np.prod(dcmHead.PixelSpacing)"
      ],
      "metadata": {
        "id": "XpBz_zZ3yRjs"
      },
      "execution_count": null,
      "outputs": []
    },
    {
      "cell_type": "code",
      "source": [
        "# Cut off patients with age > 100\n",
        "encoded_pixels = myDB[myDB['HasFile']][myDB['Age']<100]"
      ],
      "metadata": {
        "id": "EzG1l-C5SMs_"
      },
      "execution_count": null,
      "outputs": []
    },
    {
      "cell_type": "code",
      "source": [
        "# Find by how many pts healthy vs unhealthy the dataset differ\n",
        "diff = len(encoded_pixels[encoded_pixels[\"Health\"] == 1]) - len(encoded_pixels[encoded_pixels[\"Health\"] == 0])\n",
        "\n",
        "# Select this number of pts in a random manner and drop them in the dataset\n",
        "healthy_idx = list(encoded_pixels[encoded_pixels[\"Health\"] == 1].index)\n",
        "random.shuffle(healthy_idx)\n",
        "encoded_pixels.drop(index = healthy_idx[:diff], inplace = True)\n",
        "encoded_pixels.reset_index(drop = True, inplace = True)\n",
        "\n",
        "# Assert\n",
        "assert(len(encoded_pixels[encoded_pixels[\"Health\"] == 1]) == len(encoded_pixels[encoded_pixels[\"Health\"] == 0]))"
      ],
      "metadata": {
        "id": "RRUEwmwrRg7n"
      },
      "execution_count": null,
      "outputs": []
    },
    {
      "cell_type": "code",
      "source": [
        "# Split between training and validation stratifying by Health condition, Sex and Position during RX acquisition\n",
        "train_set, val_set = train_test_split(encoded_pixels, train_size=0.8,shuffle = True, random_state=123, stratify=encoded_pixels[['Health','Sex','Position']])\n",
        "\n",
        "# Assert\n",
        "assert([i for i in val_set.index if i in train_set.index] == [])"
      ],
      "metadata": {
        "id": "ZpfCfXe8UdCM"
      },
      "execution_count": null,
      "outputs": []
    },
    {
      "cell_type": "code",
      "source": [
        "# Make size compatible with batches\n",
        "max_batch_size = 32\n",
        "train_set = train_set.iloc[:-(len(train_set)%max_batch_size)]\n",
        "val_set = val_set.iloc[:-(len(val_set)%max_batch_size)]\n",
        "\n",
        "# Reset indices\n",
        "train_set.reset_index(drop = True, inplace = True)\n",
        "val_set.reset_index(drop = True, inplace = True)"
      ],
      "metadata": {
        "id": "lJTFfFt5Rjty"
      },
      "execution_count": null,
      "outputs": []
    },
    {
      "cell_type": "code",
      "source": [
        "# Drop variables not needed during training\n",
        "DeleteList = ['Health','Age','PneumothArea','Sex','HasFile','Position']\n",
        "train_set.drop(DeleteList, axis=1,inplace=True)\n",
        "val_set.drop(DeleteList, axis=1,inplace=True)"
      ],
      "metadata": {
        "id": "mZ8Zj36eWLZH"
      },
      "execution_count": null,
      "outputs": []
    },
    {
      "cell_type": "code",
      "source": [
        "# Save sets\n",
        "train_set.to_csv(\"train_set.csv\")\n",
        "val_set.to_csv(\"val_set.csv\")"
      ],
      "metadata": {
        "id": "KBUeyirH2Sfz"
      },
      "execution_count": null,
      "outputs": []
    }
  ]
}