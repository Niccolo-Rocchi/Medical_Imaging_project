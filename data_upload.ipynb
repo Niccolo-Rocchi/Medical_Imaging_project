{
  "nbformat": 4,
  "nbformat_minor": 0,
  "metadata": {
    "colab": {
      "provenance": [],
      "authorship_tag": "ABX9TyMK7aQ5Sf40rnWp1NBJ66wF",
      "include_colab_link": true
    },
    "kernelspec": {
      "name": "python3",
      "display_name": "Python 3"
    },
    "language_info": {
      "name": "python"
    }
  },
  "cells": [
    {
      "cell_type": "markdown",
      "metadata": {
        "id": "view-in-github",
        "colab_type": "text"
      },
      "source": [
        "<a href=\"https://colab.research.google.com/github/Niccolo-Rocchi/Medical_Imaging_project/blob/main/data_upload.ipynb\" target=\"_parent\"><img src=\"https://colab.research.google.com/assets/colab-badge.svg\" alt=\"Open In Colab\"/></a>"
      ]
    },
    {
      "cell_type": "markdown",
      "source": [
        "## Imports"
      ],
      "metadata": {
        "id": "UAzOXcdIz2JX"
      }
    },
    {
      "cell_type": "code",
      "source": [
        "%%capture \n",
        "!pip install pydicom"
      ],
      "metadata": {
        "id": "Y9Wl_73Mz8XO"
      },
      "execution_count": 42,
      "outputs": []
    },
    {
      "cell_type": "code",
      "execution_count": 43,
      "metadata": {
        "id": "NVqMeQ_GxbHh"
      },
      "outputs": [],
      "source": [
        "# For reading images\n",
        "import numpy as np\n",
        "from pydicom import dcmread \n",
        "import glob\n",
        "from google.colab import drive\n",
        "# For dealing with datasets\n",
        "import pandas as pd\n",
        "# For plots\n",
        "import matplotlib.pyplot as plt\n",
        "# For nets utils\n",
        "import tensorflow as tf"
      ]
    },
    {
      "cell_type": "code",
      "source": [
        "# Mount Drive data\n",
        "drive.mount('/content/drive/')\n",
        "%cd /content/drive/MyDrive/pneumotorax_data"
      ],
      "metadata": {
        "colab": {
          "base_uri": "https://localhost:8080/"
        },
        "id": "yg9w3Cm-01pp",
        "outputId": "864c9f59-d2f7-4096-825d-a0d5f377f87a"
      },
      "execution_count": 44,
      "outputs": [
        {
          "output_type": "stream",
          "name": "stdout",
          "text": [
            "Drive already mounted at /content/drive/; to attempt to forcibly remount, call drive.mount(\"/content/drive/\", force_remount=True).\n",
            "/content/drive/MyDrive/DS Lab in Medicine - projects/Medical Imaging - project/pneumotorax_data\n"
          ]
        }
      ]
    },
    {
      "cell_type": "code",
      "source": [
        "encoded_pixels = pd.read_csv('./encoded_pixels.csv')"
      ],
      "metadata": {
        "id": "_b6x9CIzCsQm"
      },
      "execution_count": 45,
      "outputs": []
    },
    {
      "cell_type": "markdown",
      "source": [
        "## Data upload"
      ],
      "metadata": {
        "id": "7xEjXYjqN7lw"
      }
    },
    {
      "cell_type": "code",
      "source": [
        "# RLE to mask conversion provided by competition organizers with the dataset.\n",
        "def rle2mask(rle, width, height):\n",
        "    mask= np.zeros(width* height)\n",
        "    array = np.asarray([int(x) for x in rle.split()])\n",
        "    starts = array[0::2]\n",
        "    lengths = array[1::2]\n",
        "\n",
        "    current_position = 0\n",
        "    for index, start in enumerate(starts):\n",
        "        current_position += start\n",
        "        mask[current_position:current_position+lengths[index]] = 255\n",
        "        current_position += lengths[index]\n",
        "\n",
        "    return mask.reshape(width, height, order='F')"
      ],
      "metadata": {
        "id": "4L1i9ZtCEyRA"
      },
      "execution_count": 46,
      "outputs": []
    },
    {
      "cell_type": "code",
      "source": [
        "# Create input for Keras' fit_generator function\n",
        "class DataGenerator:\n",
        "\n",
        "  # Method that yields (image, mask) tuple\n",
        "  def data_generator(self, total_items):\n",
        "    i = 0\n",
        "    while i < total_items:\n",
        "      # Extract ImageId and encoded pixels\n",
        "      id, rle = tuple(encoded_pixels.iloc[i])\n",
        "      # Convert encoded pixels to mask\n",
        "      mask = rle2mask(rle, 1024, 1024)\n",
        "      # Read the image associate to ImageId\n",
        "      try:\n",
        "        dcm_file = dcmread(f\"./dicom_files/{id}.dcm\")\n",
        "      except:\n",
        "        continue\n",
        "      dcm_image = dcm_file.pixel_array\n",
        "      # Rescale image\n",
        "      image = tf.keras.layers.Rescaling(dcm_image, 65536)\n",
        "      yield (image, mask)\n",
        "      i += 1\n",
        "\n",
        "  # Method used to feed the net\n",
        "  def net_input(self, total_items, batch_size, epochs):\n",
        "    # Create a tensorflow iterator\n",
        "    tf_iterator = tf.data.Dataset.from_generator(self.data_generator(total_items), \n",
        "                                                  output_types=(tf.float64, tf.int64))\n",
        "    # Shuffle data\n",
        "    tf_iterator = tf_iterator.shuffle(buffer_size = 10000, seed = 123)\n",
        "    # Create epochs\n",
        "    tf_iterator = tf_iterator.repeat(epochs)\n",
        "    # Create batches\n",
        "    tf_iterator = tf_iterator.batch(batch_size)\n",
        "    # Convert to a proper iterator\n",
        "    tf_iterator = tf_iterator.make_one_shot_iterator()\n",
        "    # Yield the result\n",
        "    while True:\n",
        "      batch_images, batch_masks = tf_iterator.get_next()\n",
        "      yield (batch_images, batch_masks)"
      ],
      "metadata": {
        "id": "qBhUUfwm18_K"
      },
      "execution_count": 47,
      "outputs": []
    },
    {
      "cell_type": "markdown",
      "source": [
        "## References\n",
        "\n",
        "1. https://towardsdatascience.com/medical-image-dataloaders-in-tensorflow-2-x-ee5327a4398f\n",
        "2. https://stackoverflow.com/questions/55375416/tensorflow-model-fit-using-a-dataset-generator\n",
        "3. https://faroit.com/keras-docs/1.2.0/models/model/\n",
        "4. https://www.tensorflow.org/api_docs/python/tf/keras/layers/Rescaling\n",
        "5. https://www.tensorflow.org/api_docs/python/tf/data/Dataset?version=nightly#from_generator"
      ],
      "metadata": {
        "id": "X2qpVhbBN-HC"
      }
    }
  ]
}