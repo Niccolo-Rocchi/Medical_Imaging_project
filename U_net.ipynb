{
  "cells": [
    {
      "cell_type": "markdown",
      "metadata": {
        "id": "view-in-github",
        "colab_type": "text"
      },
      "source": [
        "<a href=\"https://colab.research.google.com/github/Niccolo-Rocchi/Medical_Imaging_project/blob/main/U_net.ipynb\" target=\"_parent\"><img src=\"https://colab.research.google.com/assets/colab-badge.svg\" alt=\"Open In Colab\"/></a>"
      ]
    },
    {
      "cell_type": "markdown",
      "metadata": {
        "id": "UAzOXcdIz2JX"
      },
      "source": [
        "## Imports"
      ]
    },
    {
      "cell_type": "code",
      "execution_count": 1,
      "metadata": {
        "id": "Y9Wl_73Mz8XO"
      },
      "outputs": [],
      "source": [
        "%%capture \n",
        "!pip install pydicom"
      ]
    },
    {
      "cell_type": "code",
      "execution_count": 2,
      "metadata": {
        "id": "NVqMeQ_GxbHh"
      },
      "outputs": [],
      "source": [
        "# For reading files\n",
        "from pydicom import dcmread \n",
        "import glob\n",
        "from google.colab import drive\n",
        "# For dealing with data\n",
        "import numpy as np\n",
        "import pandas as pd\n",
        "import re\n",
        "import random\n",
        "random.seed(123)\n",
        "# For plots\n",
        "import matplotlib.pyplot as plt\n",
        "from skimage.io import imread, imshow\n",
        "# For nets\n",
        "import tensorflow as tf\n",
        "from skimage.transform import resize\n",
        "from keras.models import Model, load_model\n",
        "from keras.layers import Input\n",
        "from keras.layers.core import Dropout, Lambda\n",
        "from keras.layers.convolutional import Conv2D, Conv2DTranspose\n",
        "from keras.layers.pooling import MaxPooling2D\n",
        "from keras.layers import Concatenate as concatenate\n",
        "from keras.callbacks import EarlyStopping, ModelCheckpoint\n",
        "from keras import backend as K\n",
        "from sklearn.model_selection import train_test_split\n",
        "from keras.optimizers import Adam\n",
        "from keras.losses import binary_crossentropy"
      ]
    },
    {
      "cell_type": "code",
      "execution_count": 3,
      "metadata": {
        "colab": {
          "base_uri": "https://localhost:8080/"
        },
        "id": "yg9w3Cm-01pp",
        "outputId": "c6a79073-e7e2-4cbb-989d-07c484573fd6"
      },
      "outputs": [
        {
          "output_type": "stream",
          "name": "stdout",
          "text": [
            "Drive already mounted at /content/drive/; to attempt to forcibly remount, call drive.mount(\"/content/drive/\", force_remount=True).\n",
            "/content/drive/MyDrive/DS Lab in Medicine - projects/Medical Imaging - project/pneumotorax_data\n"
          ]
        }
      ],
      "source": [
        "# Mount Drive data\n",
        "drive.mount('/content/drive/')\n",
        "%cd /content/drive/MyDrive/pneumotorax_data"
      ]
    },
    {
      "cell_type": "markdown",
      "metadata": {
        "id": "7xEjXYjqN7lw"
      },
      "source": [
        "## Data upload"
      ]
    },
    {
      "cell_type": "code",
      "execution_count": 4,
      "metadata": {
        "id": "30s0N7ObVVOF"
      },
      "outputs": [],
      "source": [
        "# Read patients IDs and their encoded pixels\n",
        "encoded_pixels = pd.read_csv('./encoded_pixels.csv')\n",
        "# Read dicom files IDs\n",
        "dicom_files_IDs = glob.glob('./dicom_files/*')\n",
        "dicom_files_IDs = pd.DataFrame({\"dicom_ID\" : [re.findall(r\"\\./dicom_files/(.+)\\.dcm\", id)[0] for id in dicom_files_IDs]})\n",
        "# Intersect patients IDs with dicom IDs\n",
        "encoded_pixels = pd.merge(encoded_pixels, dicom_files_IDs, how = \"inner\", left_on = \"ImageId\", right_on = \"dicom_ID\")\n",
        "# Mark healthy patients as \"0\"\n",
        "encoded_pixels[\" EncodedPixels\"] = encoded_pixels[\" EncodedPixels\"].apply(lambda x: x.split())\n",
        "encoded_pixels[\"Health\"] = encoded_pixels[\" EncodedPixels\"].apply(lambda x: 0 if len(x)==1 else 1)"
      ]
    },
    {
      "cell_type": "code",
      "execution_count": 5,
      "metadata": {
        "id": "mZfFUHgATHAd"
      },
      "outputs": [],
      "source": [
        "# Find by how many pts healthy vs unhealthy the dataset differ\n",
        "diff = len(encoded_pixels[encoded_pixels[\"Health\"] == 0]) - len(encoded_pixels[encoded_pixels[\"Health\"] == 1])\n",
        "# Select this number of pts in a random manner and drop them in the dataset\n",
        "healthy_idx = list(encoded_pixels[encoded_pixels[\"Health\"] == 0].index)\n",
        "random.shuffle(healthy_idx)\n",
        "encoded_pixels.drop(index = healthy_idx[:diff], inplace = True)\n",
        "# Assert\n",
        "assert(len(encoded_pixels[encoded_pixels[\"Health\"] == 0]) == len(encoded_pixels[encoded_pixels[\"Health\"] == 1]))"
      ]
    },
    {
      "cell_type": "code",
      "execution_count": 6,
      "metadata": {
        "id": "U7i2-Xn2eEpA"
      },
      "outputs": [],
      "source": [
        "# Reset indices\n",
        "encoded_pixels.reset_index(drop = True, inplace = True)\n",
        "# Sample the dataset\n",
        "train_frac = 0.8\n",
        "train_set = encoded_pixels.sample(frac = train_frac, random_state = 123)\n",
        "val_set = encoded_pixels.drop(index = train_set.index).sample(frac = 1, random_state = 1)\n",
        "# Assert there's no intersection between two sets\n",
        "assert([i for i in val_set.index if i in train_set.index] == [])\n",
        "# Make size compatible with batches\n",
        "max_batch_size = 32\n",
        "train_set = train_set.iloc[:-(len(train_set)%max_batch_size)]\n",
        "val_set = val_set.iloc[:-(len(val_set)%max_batch_size)]\n",
        "# Reset indices\n",
        "train_set.reset_index(drop = True, inplace = True)\n",
        "val_set.reset_index(drop = True, inplace = True)"
      ]
    },
    {
      "cell_type": "code",
      "execution_count": 7,
      "metadata": {
        "id": "4L1i9ZtCEyRA"
      },
      "outputs": [],
      "source": [
        "# RLE to mask conversion provided by competition organizers with the dataset.\n",
        "def rle2mask(rle, width, height):\n",
        "    mask= np.zeros(width* height)\n",
        "    array = np.asarray([int(x) for x in rle])\n",
        "    starts = array[0::2]\n",
        "    lengths = array[1::2]\n",
        "\n",
        "    current_position = 0\n",
        "    if rle == ['-1']:\n",
        "      return mask.reshape(width, height, order='F')\n",
        "    else:\n",
        "      for index, start in enumerate(starts):\n",
        "          current_position += start\n",
        "          mask[current_position:current_position+lengths[index]] = 255\n",
        "          current_position += lengths[index]\n",
        "      return mask.reshape(width, height, order='F')"
      ]
    },
    {
      "cell_type": "code",
      "execution_count": 8,
      "metadata": {
        "id": "qBhUUfwm18_K"
      },
      "outputs": [],
      "source": [
        "# Create input for Keras' fit function\n",
        "class DataGenerator:\n",
        "\n",
        "  # Method that yields (image, mask) tuple\n",
        "  def data_generator(self, data):\n",
        "    while True:\n",
        "      i = 0\n",
        "      while i < len(data):\n",
        "        # Extract ID and its encoded pixels\n",
        "        id, rle = data[[\"ImageId\",\" EncodedPixels\"]].iloc[i]\n",
        "        # Convert encoded pixels to mask\n",
        "        mask = rle2mask(rle, 1024, 1024)\n",
        "        # Read the image associate to ImageId\n",
        "        try:\n",
        "          dcm_file = dcmread(f\"./dicom_files/{id}.dcm\")\n",
        "        except:\n",
        "          continue\n",
        "        dcm_image = dcm_file.pixel_array\n",
        "        # Rescale image\n",
        "        image = dcm_image/255\n",
        "        # Expand dimensions\n",
        "        image = np.expand_dims(image, axis=-1)\n",
        "        mask = np.expand_dims(mask, axis=-1)\n",
        "        # Resize image and mask\n",
        "        mask = tf.keras.layers.Resizing(256, 256, interpolation=\"nearest\", crop_to_aspect_ratio=False)(mask)\n",
        "        image = tf.keras.layers.Resizing(256, 256, interpolation=\"bilinear\", crop_to_aspect_ratio=False)(image)\n",
        "        yield (image, mask)\n",
        "        i += 1\n",
        "\n",
        "  # Create train generator for net input\n",
        "  def train_generator(self, batch_size):\n",
        "    # Create a tensorflow iterator\n",
        "    tf_iterator = tf.data.Dataset.from_generator(lambda: self.data_generator(train_set), output_types=(tf.float64, tf.float64))\n",
        "    # Create batch size\n",
        "    tf_iterator = tf_iterator.batch(batch_size)\n",
        "    # Return generator\n",
        "    return tf_iterator\n",
        "\n",
        "  # Create validation generator for net input\n",
        "  def val_generator(self, batch_size):\n",
        "    # Create a tensorflow iterator\n",
        "    tf_iterator = tf.data.Dataset.from_generator(lambda: self.data_generator(val_set), output_types=(tf.float64, tf.float64))\n",
        "    # Create batch size\n",
        "    tf_iterator = tf_iterator.batch(batch_size)\n",
        "    # Return generator\n",
        "    return tf_iterator"
      ]
    },
    {
      "cell_type": "markdown",
      "metadata": {
        "id": "dBmx8nY4hciT"
      },
      "source": [
        "## U-net"
      ]
    },
    {
      "cell_type": "markdown",
      "source": [
        "### Loss functions"
      ],
      "metadata": {
        "id": "1O01XXqvARWe"
      }
    },
    {
      "cell_type": "code",
      "execution_count": 9,
      "metadata": {
        "id": "FqMreoG0e3UD"
      },
      "outputs": [],
      "source": [
        "def dice_coef(y_true, y_pred, smooth=1):\n",
        "    intersection = K.sum(y_true * y_pred, axis=[1,2,3])\n",
        "    union = K.sum(y_true, axis=[1,2,3]) + K.sum(y_pred, axis=[1,2,3])\n",
        "    return K.mean( (2. * intersection + smooth) / (union + smooth), axis=0)\n",
        "\n",
        "def dice_p_bce(in_gt, in_pred):\n",
        "    \"\"\"combine DICE and BCE\"\"\"\n",
        "    return 0.01*binary_crossentropy(in_gt, in_pred) - dice_coef(in_gt, in_pred)\n",
        "\n",
        "def focal_loss(gamma=2., alpha=.25):\n",
        "\tdef focal_loss_fixed(y_true, y_pred):\n",
        "\t\tpt_1 = tf.where(tf.equal(y_true, 1), y_pred, tf.ones_like(y_pred))\n",
        "\t\tpt_0 = tf.where(tf.equal(y_true, 0), y_pred, tf.zeros_like(y_pred))\n",
        "\t\treturn -K.mean(alpha * K.pow(1. - pt_1, gamma) * K.log(pt_1+K.epsilon())) - K.mean((1 - alpha) * K.pow(pt_0, gamma) * K.log(1. - pt_0 + K.epsilon()))\n",
        "\treturn focal_loss_fixed"
      ]
    },
    {
      "cell_type": "markdown",
      "source": [
        "### Net definition and train"
      ],
      "metadata": {
        "id": "grX2o3dqAYZN"
      }
    },
    {
      "cell_type": "code",
      "source": [
        "# Loss\n",
        "loss = focal_loss()\n",
        "\n",
        "# Batch and epochs\n",
        "batch_size = 32\n",
        "epochs = 20\n",
        "assert(batch_size <= max_batch_size)\n",
        "\n",
        "# Callbacks\n",
        "callback = tf.keras.callbacks.EarlyStopping(monitor='val_loss', patience=3) "
      ],
      "metadata": {
        "id": "eBgCeYssBe9H"
      },
      "execution_count": 10,
      "outputs": []
    },
    {
      "cell_type": "code",
      "execution_count": 11,
      "metadata": {
        "id": "x6dYJWZgmifm"
      },
      "outputs": [],
      "source": [
        "# Net\n",
        "def create_model(loss):\n",
        "\n",
        "  # Model description\n",
        "  inputs = Input((256, 256, 1))\n",
        "\n",
        "  c1 = Conv2D(16, (3, 3), activation='elu', kernel_initializer='he_normal', padding='same') (inputs)\n",
        "  c1 = Dropout(0.1) (c1)\n",
        "  c1 = Conv2D(16, (3, 3), activation='elu', kernel_initializer='he_normal', padding='same') (c1)\n",
        "  p1 = MaxPooling2D((2, 2)) (c1)\n",
        "\n",
        "  c2 = Conv2D(32, (3, 3), activation='elu', kernel_initializer='he_normal', padding='same') (p1)\n",
        "  c2 = Dropout(0.1) (c2)\n",
        "  c2 = Conv2D(32, (3, 3), activation='elu', kernel_initializer='he_normal', padding='same') (c2)\n",
        "  p2 = MaxPooling2D((2, 2)) (c2)\n",
        "\n",
        "  c3 = Conv2D(64, (3, 3), activation='elu', kernel_initializer='he_normal', padding='same') (p2)\n",
        "  c3 = Dropout(0.2) (c3)\n",
        "  c3 = Conv2D(64, (3, 3), activation='elu', kernel_initializer='he_normal', padding='same') (c3)\n",
        "  p3 = MaxPooling2D((2, 2)) (c3)\n",
        "\n",
        "  c4 = Conv2D(128, (3, 3), activation='elu', kernel_initializer='he_normal', padding='same') (p3)\n",
        "  c4 = Dropout(0.2) (c4)\n",
        "  c4 = Conv2D(128, (3, 3), activation='elu', kernel_initializer='he_normal', padding='same') (c4)\n",
        "  p4 = MaxPooling2D(pool_size=(2, 2)) (c4)\n",
        "\n",
        "  c5 = Conv2D(256, (3, 3), activation='elu', kernel_initializer='he_normal', padding='same') (p4)\n",
        "  c5 = Dropout(0.3) (c5)\n",
        "  c5 = Conv2D(256, (3, 3), activation='elu', kernel_initializer='he_normal', padding='same') (c5)\n",
        "\n",
        "  u6 = Conv2DTranspose(128, (2, 2), strides=(2, 2), padding='same') (c5)\n",
        "  u6 = concatenate()([u6, c4])\n",
        "  c6 = Conv2D(128, (3, 3), activation='elu', kernel_initializer='he_normal', padding='same') (u6)\n",
        "  c6 = Dropout(0.2) (c6)\n",
        "  c6 = Conv2D(128, (3, 3), activation='elu', kernel_initializer='he_normal', padding='same') (c6)\n",
        "\n",
        "  u7 = Conv2DTranspose(64, (2, 2), strides=(2, 2), padding='same') (c6)\n",
        "  u7 = concatenate()([u7, c3])\n",
        "  c7 = Conv2D(64, (3, 3), activation='elu', kernel_initializer='he_normal', padding='same') (u7)\n",
        "  c7 = Dropout(0.2) (c7)\n",
        "  c7 = Conv2D(64, (3, 3), activation='elu', kernel_initializer='he_normal', padding='same') (c7)\n",
        "\n",
        "  u8 = Conv2DTranspose(32, (2, 2), strides=(2, 2), padding='same') (c7)\n",
        "  u8 = concatenate()([u8, c2])\n",
        "  c8 = Conv2D(32, (3, 3), activation='elu', kernel_initializer='he_normal', padding='same') (u8)\n",
        "  c8 = Dropout(0.1) (c8)\n",
        "  c8 = Conv2D(32, (3, 3), activation='elu', kernel_initializer='he_normal', padding='same') (c8)\n",
        "\n",
        "  u9 = Conv2DTranspose(16, (2, 2), strides=(2, 2), padding='same') (c8)\n",
        "  u9 = concatenate(axis=3)([u9, c1])\n",
        "  c9 = Conv2D(16, (3, 3), activation='elu', kernel_initializer='he_normal', padding='same') (u9)\n",
        "  c9 = Dropout(0.1) (c9)\n",
        "  c9 = Conv2D(16, (3, 3), activation='elu', kernel_initializer='he_normal', padding='same') (c9)\n",
        "\n",
        "  outputs = Conv2D(1, (1, 1), activation='sigmoid') (c9)\n",
        "\n",
        "  model = Model(inputs=[inputs], outputs=[outputs])\n",
        "\n",
        "  # Model compilation\n",
        "  model.compile(optimizer='adam', loss=loss, metrics=[dice_p_bce])\n",
        "\n",
        "  # Return model\n",
        "  return model"
      ]
    },
    {
      "cell_type": "code",
      "execution_count": 12,
      "metadata": {
        "id": "f4l0E--gig39"
      },
      "outputs": [],
      "source": [
        "# Net input generator\n",
        "train_generator = DataGenerator().train_generator(batch_size)\n",
        "val_generator = DataGenerator().val_generator(batch_size)"
      ]
    },
    {
      "cell_type": "code",
      "execution_count": 13,
      "metadata": {
        "colab": {
          "base_uri": "https://localhost:8080/"
        },
        "id": "t_dqMxZaiL7G",
        "outputId": "f4c8c99e-cafc-4659-e64c-7bede7c45718"
      },
      "outputs": [
        {
          "output_type": "stream",
          "name": "stdout",
          "text": [
            "Epoch 1/20\n",
            "164/164 [==============================] - 340s 2s/step - loss: 0.0015 - dice_p_bce: -0.2744 - val_loss: 1.2365e-13 - val_dice_p_bce: -0.3002\n",
            "Epoch 2/20\n",
            "164/164 [==============================] - 267s 2s/step - loss: 5.7692e-07 - dice_p_bce: -0.2946 - val_loss: 1.1712e-13 - val_dice_p_bce: -0.3002\n",
            "Epoch 3/20\n",
            "164/164 [==============================] - 300s 2s/step - loss: 3.0867e-07 - dice_p_bce: -0.2953 - val_loss: 7.2485e-14 - val_dice_p_bce: -0.3002\n",
            "Epoch 4/20\n",
            "164/164 [==============================] - 270s 2s/step - loss: 1.1944e-07 - dice_p_bce: -0.2954 - val_loss: 9.4719e-14 - val_dice_p_bce: -0.3002\n",
            "Epoch 5/20\n",
            "164/164 [==============================] - 288s 2s/step - loss: 1.1234e-07 - dice_p_bce: -0.2955 - val_loss: 9.4990e-14 - val_dice_p_bce: -0.3002\n",
            "Epoch 6/20\n",
            "164/164 [==============================] - 280s 2s/step - loss: 2.3221e-07 - dice_p_bce: -0.2953 - val_loss: 1.0359e-13 - val_dice_p_bce: -0.3002\n"
          ]
        }
      ],
      "source": [
        "# Create model\n",
        "model = create_model(loss)\n",
        "\n",
        "# Model fit\n",
        "model_history = model.fit(x = train_generator, \n",
        "                          epochs = epochs, \n",
        "                          steps_per_epoch=(len(train_set)//batch_size),\n",
        "                          validation_data = val_generator,\n",
        "                          validation_steps = (len(val_set)//batch_size),\n",
        "                          callbacks = callback, \n",
        "                          )"
      ]
    },
    {
      "cell_type": "code",
      "execution_count": 14,
      "metadata": {
        "id": "X1OkFRxoWmS5",
        "colab": {
          "base_uri": "https://localhost:8080/",
          "height": 448
        },
        "outputId": "0bfe98cd-deb0-4036-ffd6-d81306120012"
      },
      "outputs": [
        {
          "output_type": "execute_result",
          "data": {
            "text/plain": [
              "[<matplotlib.lines.Line2D at 0x7fb3031a2440>]"
            ]
          },
          "metadata": {},
          "execution_count": 14
        },
        {
          "output_type": "display_data",
          "data": {
            "text/plain": [
              "<Figure size 640x480 with 1 Axes>"
            ],
            "image/png": "[encoded data removed]"
          },
          "metadata": {}
        }
      ],
      "source": [
        "# Plot losses\n",
        "train_loss = model_history.history['loss']\n",
        "val_loss = model_history.history['val_loss']\n",
        "\n",
        "plt.plot(train_loss)\n",
        "plt.plot(val_loss)"
      ]
    },
    {
      "cell_type": "code",
      "source": [
        "# Save the weights\n",
        "model.save_weights(f'./trained_models/{loss}_model/{loss}')"
      ],
      "metadata": {
        "id": "wXGdC729BxDU"
      },
      "execution_count": 15,
      "outputs": []
    },
    {
      "cell_type": "code",
      "source": [
        "# Create a new model instance\n",
        "new_model = create_model(loss)\n",
        "\n",
        "# Restore the weights\n",
        "new_model.load_weights(f'./trained_models/{loss}_model/{loss}')"
      ],
      "metadata": {
        "colab": {
          "base_uri": "https://localhost:8080/"
        },
        "id": "zIUtoXtzBv0F",
        "outputId": "a6d0121c-edd8-49a0-96a5-bff6a00c48e8"
      },
      "execution_count": 16,
      "outputs": [
        {
          "output_type": "execute_result",
          "data": {
            "text/plain": [
              "<tensorflow.python.checkpoint.checkpoint.CheckpointLoadStatus at 0x7fb3056f3d60>"
            ]
          },
          "metadata": {},
          "execution_count": 16
        }
      ]
    }
  ],
  "metadata": {
    "accelerator": "GPU",
    "colab": {
      "provenance": [],
      "authorship_tag": "ABX9TyNPXEuHSl1GxOLiQds7jdoZ",
      "include_colab_link": true
    },
    "gpuClass": "standard",
    "kernelspec": {
      "display_name": "Python 3",
      "name": "python3"
    },
    "language_info": {
      "name": "python"
    }
  },
  "nbformat": 4,
  "nbformat_minor": 0
}