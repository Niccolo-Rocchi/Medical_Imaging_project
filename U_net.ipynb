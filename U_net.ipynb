{
  "cells": [
    {
      "cell_type": "markdown",
      "metadata": {
        "id": "view-in-github",
        "colab_type": "text"
      },
      "source": [
        "<a href=\"https://colab.research.google.com/github/Niccolo-Rocchi/Medical_Imaging_project/blob/main/U_net.ipynb\" target=\"_parent\"><img src=\"https://colab.research.google.com/assets/colab-badge.svg\" alt=\"Open In Colab\"/></a>"
      ]
    },
    {
      "cell_type": "markdown",
      "metadata": {
        "id": "UAzOXcdIz2JX"
      },
      "source": [
        "## Imports"
      ]
    },
    {
      "cell_type": "code",
      "execution_count": 1,
      "metadata": {
        "id": "Y9Wl_73Mz8XO"
      },
      "outputs": [],
      "source": [
        "%%capture \n",
        "!pip install pydicom"
      ]
    },
    {
      "cell_type": "code",
      "execution_count": 2,
      "metadata": {
        "id": "NVqMeQ_GxbHh"
      },
      "outputs": [],
      "source": [
        "# For reading files\n",
        "from pydicom import dcmread \n",
        "import glob\n",
        "from google.colab import drive\n",
        "# For dealing with data\n",
        "import numpy as np\n",
        "import pandas as pd\n",
        "import re\n",
        "import random\n",
        "random.seed(123)\n",
        "import os\n",
        "# For plots\n",
        "import matplotlib.pyplot as plt\n",
        "from skimage.io import imread, imshow\n",
        "# For nets\n",
        "import tensorflow as tf\n",
        "from skimage.transform import resize\n",
        "from keras.models import Model, load_model\n",
        "from keras.layers import Input\n",
        "from keras.layers.core import Dropout, Lambda\n",
        "from keras.layers.convolutional import Conv2D, Conv2DTranspose\n",
        "from keras.layers.pooling import MaxPooling2D\n",
        "from keras.layers import Concatenate as concatenate\n",
        "from keras.callbacks import EarlyStopping, ModelCheckpoint\n",
        "from keras import backend as K\n",
        "from sklearn.model_selection import train_test_split\n",
        "from keras.optimizers import Adam\n",
        "from keras.losses import binary_crossentropy"
      ]
    },
    {
      "cell_type": "code",
      "execution_count": 3,
      "metadata": {
        "colab": {
          "base_uri": "https://localhost:8080/"
        },
        "id": "yg9w3Cm-01pp",
        "outputId": "c6af7608-6521-4b56-fb9a-8b0eaa162c22"
      },
      "outputs": [
        {
          "output_type": "stream",
          "name": "stdout",
          "text": [
            "Drive already mounted at /content/drive/; to attempt to forcibly remount, call drive.mount(\"/content/drive/\", force_remount=True).\n",
            "/content/drive/MyDrive/med_img_pro/pneumotorax_data\n"
          ]
        }
      ],
      "source": [
        "# Mount Drive data\n",
        "drive.mount('/content/drive/')\n",
        "%cd /content/drive/MyDrive/pneumotorax_data"
      ]
    },
    {
      "cell_type": "markdown",
      "metadata": {
        "id": "7xEjXYjqN7lw"
      },
      "source": [
        "## Data upload\n"
      ]
    },
    {
      "cell_type": "code",
      "source": [
        "# Data upload from `Data_Preprocesing` notebook\n",
        "train_set = pd.read_csv(\"train_set.csv\")\n",
        "val_set = pd.read_csv(\"val_set.csv\")"
      ],
      "metadata": {
        "id": "UEn-m-Ak3sKE"
      },
      "execution_count": 4,
      "outputs": []
    },
    {
      "cell_type": "markdown",
      "source": [
        "## Data Generator for the net"
      ],
      "metadata": {
        "id": "OExCmbnn3yVk"
      }
    },
    {
      "cell_type": "code",
      "execution_count": 5,
      "metadata": {
        "id": "4L1i9ZtCEyRA"
      },
      "outputs": [],
      "source": [
        "# RLE to mask conversion provided by competition organizers with the dataset.\n",
        "def rle2mask(rle, width, height):\n",
        "    mask= np.zeros(width*height)\n",
        "\n",
        "    if rle != ' -1':\n",
        "      array = np.asarray([int(x) for x in rle.split()])\n",
        "      starts = array[0::2]\n",
        "      lengths = array[1::2]\n",
        "\n",
        "      current_position = 0\n",
        "      for index, start in enumerate(starts):\n",
        "          current_position += start\n",
        "          mask[current_position:current_position+lengths[index]] = 1\n",
        "          current_position += lengths[index]\n",
        "\n",
        "    return mask.reshape(width, height, order='F')"
      ]
    },
    {
      "cell_type": "code",
      "execution_count": 6,
      "metadata": {
        "id": "qBhUUfwm18_K"
      },
      "outputs": [],
      "source": [
        "# Create input for Keras' fit function\n",
        "class DataGenerator:\n",
        "\n",
        "  # Method that yields (image, mask) tuple\n",
        "  def data_generator(self, data):\n",
        "    while True:\n",
        "      i = 0\n",
        "      while i < len(data):\n",
        "        # Extract ID and its encoded pixels\n",
        "        id, rle = data[[\"ImageId\",\" EncodedPixels\"]].iloc[i]\n",
        "        # Convert encoded pixels to mask\n",
        "        mask = rle2mask(rle, 1024, 1024)\n",
        "        # Read the image associate to ImageId\n",
        "        try:\n",
        "          dcm_file = dcmread(f\"./dicom_files/{id}.dcm\")\n",
        "        except:\n",
        "          continue\n",
        "        dcm_image = dcm_file.pixel_array\n",
        "        # Rescale image\n",
        "        image = dcm_image/255\n",
        "        # Expand dimensions\n",
        "        image = np.expand_dims(image, axis=-1)\n",
        "        mask = np.expand_dims(mask, axis=-1)\n",
        "        # Resize image and mask\n",
        "        mask = tf.keras.layers.Resizing(256, 256, interpolation=\"nearest\", crop_to_aspect_ratio=False)(mask)\n",
        "        image = tf.keras.layers.Resizing(256, 256, interpolation=\"bilinear\", crop_to_aspect_ratio=False)(image)\n",
        "        yield (image, mask)\n",
        "        i += 1\n",
        "\n",
        "  # Create train generator for net input\n",
        "  def train_generator(self, batch_size):\n",
        "    # Create a tensorflow iterator\n",
        "    tf_iterator = tf.data.Dataset.from_generator(lambda: self.data_generator(train_set), output_types=(tf.float64, tf.float64))\n",
        "    # Create batch size\n",
        "    tf_iterator = tf_iterator.batch(batch_size)\n",
        "    # Return generator\n",
        "    return tf_iterator\n",
        "\n",
        "  # Create validation generator for net input\n",
        "  def val_generator(self, batch_size):\n",
        "    # Create a tensorflow iterator\n",
        "    tf_iterator = tf.data.Dataset.from_generator(lambda: self.data_generator(val_set), output_types=(tf.float64, tf.float64))\n",
        "    # Create batch size\n",
        "    tf_iterator = tf_iterator.batch(batch_size)\n",
        "    # Return generator\n",
        "    return tf_iterator"
      ]
    },
    {
      "cell_type": "markdown",
      "metadata": {
        "id": "dBmx8nY4hciT"
      },
      "source": [
        "## U-net"
      ]
    },
    {
      "cell_type": "markdown",
      "source": [
        "### Metrics"
      ],
      "metadata": {
        "id": "srCO0STYx71L"
      }
    },
    {
      "cell_type": "code",
      "source": [
        "# Intersection-Over-Union (IoU), also known as the Jaccard Index\n",
        "def IoU(y_true, y_pred):\n",
        "    intersection = K.sum(y_true * y_pred, axis=[1,2,3])\n",
        "    union = K.sum(y_true, axis=[1,2,3]) + K.sum(y_pred, axis=[1,2,3])\n",
        "    return intersection / union\n",
        "\n",
        "# True Positive Rate\n",
        "def true_positive_rate(y_true, y_pred):\n",
        "    return K.sum(K.flatten(y_true)*K.flatten(K.round(y_pred)))/K.sum(y_true)\n",
        "\n",
        "# Dice coefficient\n",
        "def dice_coef(y_true, y_pred, smooth=1):\n",
        "    intersection = K.sum(y_true * y_pred, axis=[1,2,3])\n",
        "    union = K.sum(y_true, axis=[1,2,3]) + K.sum(y_pred, axis=[1,2,3])\n",
        "    return K.mean( (2. * intersection + smooth) / (union + smooth), axis=0)"
      ],
      "metadata": {
        "id": "6OdZ3HuFx7l9"
      },
      "execution_count": 7,
      "outputs": []
    },
    {
      "cell_type": "markdown",
      "source": [
        "### Loss functions"
      ],
      "metadata": {
        "id": "1O01XXqvARWe"
      }
    },
    {
      "cell_type": "code",
      "execution_count": 8,
      "metadata": {
        "id": "FqMreoG0e3UD"
      },
      "outputs": [],
      "source": [
        "# Focal loss\n",
        "def focal_loss(gamma=2., alpha=.25):\n",
        "\tdef focal_loss_fixed(y_true, y_pred):\n",
        "\t\tpt_1 = tf.where(tf.equal(y_true, 1), y_pred, tf.ones_like(y_pred))\n",
        "\t\tpt_0 = tf.where(tf.equal(y_true, 0), y_pred, tf.zeros_like(y_pred))\n",
        "\t\treturn -K.mean(alpha * K.pow(1. - pt_1, gamma) * K.log(pt_1+K.epsilon())) - K.mean((1 - alpha) * K.pow(pt_0, gamma) * K.log(1. - pt_0 + K.epsilon()))\n",
        "\treturn focal_loss_fixed\n",
        "\n",
        "# Dice loss\n",
        "def dice_loss(y_true, y_pred, smooth=1):\n",
        "    return 1 - dice_coef(y_true, y_pred)\n",
        "\n",
        "# BinaryCrossEntropy"
      ]
    },
    {
      "cell_type": "markdown",
      "source": [
        "### Net definition and train"
      ],
      "metadata": {
        "id": "grX2o3dqAYZN"
      }
    },
    {
      "cell_type": "code",
      "source": [
        "# Metrics\n",
        "metrics = [dice_coef, true_positive_rate, IoU]\n",
        "\n",
        "# Loss\n",
        "loss = focal_loss()\n",
        "\n",
        "# Batch and epochs\n",
        "batch_size = 32\n",
        "epochs = 20\n",
        "assert(batch_size <= 32)\n",
        "\n",
        "# Callbacks\n",
        "callback = tf.keras.callbacks.EarlyStopping(monitor='val_loss', patience=3) "
      ],
      "metadata": {
        "id": "eBgCeYssBe9H"
      },
      "execution_count": 9,
      "outputs": []
    },
    {
      "cell_type": "code",
      "execution_count": 10,
      "metadata": {
        "id": "x6dYJWZgmifm"
      },
      "outputs": [],
      "source": [
        "# Net\n",
        "def create_model(loss):\n",
        "\n",
        "  # Model description\n",
        "  inputs = Input((256, 256, 1))\n",
        "\n",
        "  c1 = Conv2D(16, (3, 3), activation='elu', kernel_initializer='he_normal', padding='same') (inputs)\n",
        "  c1 = Dropout(0.1) (c1)\n",
        "  c1 = Conv2D(16, (3, 3), activation='elu', kernel_initializer='he_normal', padding='same') (c1)\n",
        "  p1 = MaxPooling2D((2, 2)) (c1)\n",
        "\n",
        "  c2 = Conv2D(32, (3, 3), activation='elu', kernel_initializer='he_normal', padding='same') (p1)\n",
        "  c2 = Dropout(0.1) (c2)\n",
        "  c2 = Conv2D(32, (3, 3), activation='elu', kernel_initializer='he_normal', padding='same') (c2)\n",
        "  p2 = MaxPooling2D((2, 2)) (c2)\n",
        "\n",
        "  c3 = Conv2D(64, (3, 3), activation='elu', kernel_initializer='he_normal', padding='same') (p2)\n",
        "  c3 = Dropout(0.2) (c3)\n",
        "  c3 = Conv2D(64, (3, 3), activation='elu', kernel_initializer='he_normal', padding='same') (c3)\n",
        "  p3 = MaxPooling2D((2, 2)) (c3)\n",
        "\n",
        "  c4 = Conv2D(128, (3, 3), activation='elu', kernel_initializer='he_normal', padding='same') (p3)\n",
        "  c4 = Dropout(0.2) (c4)\n",
        "  c4 = Conv2D(128, (3, 3), activation='elu', kernel_initializer='he_normal', padding='same') (c4)\n",
        "  p4 = MaxPooling2D(pool_size=(2, 2)) (c4)\n",
        "\n",
        "  c5 = Conv2D(256, (3, 3), activation='elu', kernel_initializer='he_normal', padding='same') (p4)\n",
        "  c5 = Dropout(0.3) (c5)\n",
        "  c5 = Conv2D(256, (3, 3), activation='elu', kernel_initializer='he_normal', padding='same') (c5)\n",
        "\n",
        "  u6 = Conv2DTranspose(128, (2, 2), strides=(2, 2), padding='same') (c5)\n",
        "  u6 = concatenate()([u6, c4])\n",
        "  c6 = Conv2D(128, (3, 3), activation='elu', kernel_initializer='he_normal', padding='same') (u6)\n",
        "  c6 = Dropout(0.2) (c6)\n",
        "  c6 = Conv2D(128, (3, 3), activation='elu', kernel_initializer='he_normal', padding='same') (c6)\n",
        "\n",
        "  u7 = Conv2DTranspose(64, (2, 2), strides=(2, 2), padding='same') (c6)\n",
        "  u7 = concatenate()([u7, c3])\n",
        "  c7 = Conv2D(64, (3, 3), activation='elu', kernel_initializer='he_normal', padding='same') (u7)\n",
        "  c7 = Dropout(0.2) (c7)\n",
        "  c7 = Conv2D(64, (3, 3), activation='elu', kernel_initializer='he_normal', padding='same') (c7)\n",
        "\n",
        "  u8 = Conv2DTranspose(32, (2, 2), strides=(2, 2), padding='same') (c7)\n",
        "  u8 = concatenate()([u8, c2])\n",
        "  c8 = Conv2D(32, (3, 3), activation='elu', kernel_initializer='he_normal', padding='same') (u8)\n",
        "  c8 = Dropout(0.1) (c8)\n",
        "  c8 = Conv2D(32, (3, 3), activation='elu', kernel_initializer='he_normal', padding='same') (c8)\n",
        "\n",
        "  u9 = Conv2DTranspose(16, (2, 2), strides=(2, 2), padding='same') (c8)\n",
        "  u9 = concatenate(axis=3)([u9, c1])\n",
        "  c9 = Conv2D(16, (3, 3), activation='elu', kernel_initializer='he_normal', padding='same') (u9)\n",
        "  c9 = Dropout(0.1) (c9)\n",
        "  c9 = Conv2D(16, (3, 3), activation='elu', kernel_initializer='he_normal', padding='same') (c9)\n",
        "\n",
        "  outputs = Conv2D(1, (1, 1), activation='sigmoid') (c9)\n",
        "\n",
        "  model = Model(inputs=[inputs], outputs=[outputs])\n",
        "\n",
        "  # Model compilation\n",
        "  model.compile(optimizer='adam', loss = loss, metrics = metrics)\n",
        "\n",
        "  # Return model\n",
        "  return model"
      ]
    },
    {
      "cell_type": "code",
      "execution_count": 11,
      "metadata": {
        "id": "f4l0E--gig39"
      },
      "outputs": [],
      "source": [
        "# Net input generator\n",
        "train_generator = DataGenerator().train_generator(batch_size)\n",
        "val_generator = DataGenerator().val_generator(batch_size)"
      ]
    },
    {
      "cell_type": "code",
      "execution_count": 12,
      "metadata": {
        "colab": {
          "base_uri": "https://localhost:8080/"
        },
        "id": "t_dqMxZaiL7G",
        "outputId": "9d70d7d2-b66b-45ee-eb06-6143cbf4d0cc"
      },
      "outputs": [
        {
          "output_type": "stream",
          "name": "stdout",
          "text": [
            "Epoch 1/20\n",
            "164/164 [==============================] - 336s 2s/step - loss: 0.0228 - dice_coef: 0.4728 - true_positive_rate: 0.0043 - IoU: nan - val_loss: 0.0203 - val_dice_coef: 0.4987 - val_true_positive_rate: 0.0000e+00 - val_IoU: 0.0000e+00\n",
            "Epoch 2/20\n",
            "164/164 [==============================] - 275s 2s/step - loss: 0.0209 - dice_coef: 0.5006 - true_positive_rate: 0.0000e+00 - IoU: nan - val_loss: 0.0203 - val_dice_coef: 0.4984 - val_true_positive_rate: 0.0000e+00 - val_IoU: 0.0000e+00\n",
            "Epoch 3/20\n",
            "164/164 [==============================] - 303s 2s/step - loss: 0.0209 - dice_coef: 0.5006 - true_positive_rate: 0.0000e+00 - IoU: nan - val_loss: 0.0203 - val_dice_coef: 0.4981 - val_true_positive_rate: 0.0000e+00 - val_IoU: 0.0000e+00\n",
            "Epoch 4/20\n",
            "164/164 [==============================] - 272s 2s/step - loss: 0.0209 - dice_coef: 0.5009 - true_positive_rate: 0.0000e+00 - IoU: nan - val_loss: 0.0203 - val_dice_coef: 0.4987 - val_true_positive_rate: 0.0000e+00 - val_IoU: 0.0000e+00\n",
            "Epoch 5/20\n",
            "164/164 [==============================] - 273s 2s/step - loss: 0.0209 - dice_coef: 0.5012 - true_positive_rate: 0.0000e+00 - IoU: nan - val_loss: 0.0203 - val_dice_coef: 0.4988 - val_true_positive_rate: 0.0000e+00 - val_IoU: 0.0000e+00\n",
            "Epoch 6/20\n",
            "164/164 [==============================] - 274s 2s/step - loss: 0.0209 - dice_coef: 0.5013 - true_positive_rate: 0.0000e+00 - IoU: nan - val_loss: 0.0203 - val_dice_coef: 0.4991 - val_true_positive_rate: 0.0000e+00 - val_IoU: 0.0000e+00\n",
            "Epoch 7/20\n",
            "164/164 [==============================] - 270s 2s/step - loss: 0.0209 - dice_coef: 0.5015 - true_positive_rate: 0.0000e+00 - IoU: nan - val_loss: 0.0203 - val_dice_coef: 0.4993 - val_true_positive_rate: 0.0000e+00 - val_IoU: 0.0000e+00\n",
            "Epoch 8/20\n",
            "164/164 [==============================] - 273s 2s/step - loss: 0.0209 - dice_coef: 0.5014 - true_positive_rate: 0.0000e+00 - IoU: nan - val_loss: 0.0203 - val_dice_coef: 0.4992 - val_true_positive_rate: 0.0000e+00 - val_IoU: 0.0000e+00\n",
            "Epoch 9/20\n",
            "164/164 [==============================] - 306s 2s/step - loss: 0.0209 - dice_coef: 0.5016 - true_positive_rate: 0.0000e+00 - IoU: nan - val_loss: 0.0203 - val_dice_coef: 0.4993 - val_true_positive_rate: 0.0000e+00 - val_IoU: 0.0000e+00\n",
            "Epoch 10/20\n",
            "164/164 [==============================] - 275s 2s/step - loss: 0.0209 - dice_coef: 0.5016 - true_positive_rate: 0.0000e+00 - IoU: nan - val_loss: 0.0203 - val_dice_coef: 0.4995 - val_true_positive_rate: 0.0000e+00 - val_IoU: 0.0000e+00\n",
            "Epoch 11/20\n",
            "164/164 [==============================] - 274s 2s/step - loss: 0.0209 - dice_coef: 0.5015 - true_positive_rate: 0.0000e+00 - IoU: nan - val_loss: 0.0203 - val_dice_coef: 0.4991 - val_true_positive_rate: 0.0000e+00 - val_IoU: 0.0000e+00\n",
            "Epoch 12/20\n",
            "164/164 [==============================] - 289s 2s/step - loss: 0.0209 - dice_coef: 0.5015 - true_positive_rate: 0.0000e+00 - IoU: nan - val_loss: 0.0203 - val_dice_coef: 0.4993 - val_true_positive_rate: 0.0000e+00 - val_IoU: 0.0000e+00\n",
            "Epoch 13/20\n",
            "164/164 [==============================] - 299s 2s/step - loss: 0.0209 - dice_coef: 0.5017 - true_positive_rate: 0.0000e+00 - IoU: nan - val_loss: 0.0203 - val_dice_coef: 0.4995 - val_true_positive_rate: 0.0000e+00 - val_IoU: 0.0000e+00\n",
            "Epoch 14/20\n",
            "164/164 [==============================] - 259s 2s/step - loss: 0.0209 - dice_coef: 0.5018 - true_positive_rate: 0.0000e+00 - IoU: nan - val_loss: 0.0203 - val_dice_coef: 0.4997 - val_true_positive_rate: 0.0000e+00 - val_IoU: 0.0000e+00\n",
            "Epoch 15/20\n",
            "164/164 [==============================] - 280s 2s/step - loss: 0.0209 - dice_coef: 0.5018 - true_positive_rate: 0.0000e+00 - IoU: nan - val_loss: 0.0203 - val_dice_coef: 0.4998 - val_true_positive_rate: 0.0000e+00 - val_IoU: 0.0000e+00\n",
            "Epoch 16/20\n",
            "164/164 [==============================] - 268s 2s/step - loss: 0.0209 - dice_coef: 0.5019 - true_positive_rate: 0.0000e+00 - IoU: nan - val_loss: 0.0203 - val_dice_coef: 0.4999 - val_true_positive_rate: 0.0000e+00 - val_IoU: 0.0000e+00\n",
            "Epoch 17/20\n",
            "164/164 [==============================] - 296s 2s/step - loss: 0.0209 - dice_coef: 0.5019 - true_positive_rate: 0.0000e+00 - IoU: nan - val_loss: 0.0203 - val_dice_coef: 0.5000 - val_true_positive_rate: 0.0000e+00 - val_IoU: 0.0000e+00\n",
            "Epoch 18/20\n",
            "164/164 [==============================] - 298s 2s/step - loss: 0.0209 - dice_coef: 0.5018 - true_positive_rate: 0.0000e+00 - IoU: nan - val_loss: 0.0203 - val_dice_coef: 0.5001 - val_true_positive_rate: 0.0000e+00 - val_IoU: 0.0000e+00\n",
            "Epoch 19/20\n",
            "164/164 [==============================] - 260s 2s/step - loss: 0.0209 - dice_coef: 0.5019 - true_positive_rate: 0.0000e+00 - IoU: nan - val_loss: 0.0203 - val_dice_coef: 0.5002 - val_true_positive_rate: 0.0000e+00 - val_IoU: 0.0000e+00\n",
            "Epoch 20/20\n",
            "164/164 [==============================] - 301s 2s/step - loss: 0.0209 - dice_coef: 0.5019 - true_positive_rate: 0.0000e+00 - IoU: nan - val_loss: 0.0203 - val_dice_coef: 0.5003 - val_true_positive_rate: 0.0000e+00 - val_IoU: 0.0000e+00\n"
          ]
        }
      ],
      "source": [
        "# Create model\n",
        "model = create_model(loss)\n",
        "\n",
        "# Fit model\n",
        "model_history = model.fit(x = train_generator, \n",
        "                          epochs = epochs, \n",
        "                          steps_per_epoch=(len(train_set)//batch_size),\n",
        "                          validation_data = val_generator,\n",
        "                          validation_steps = (len(val_set)//batch_size),\n",
        "                          callbacks = callback, \n",
        "                          )"
      ]
    },
    {
      "cell_type": "code",
      "execution_count": 13,
      "metadata": {
        "id": "X1OkFRxoWmS5",
        "colab": {
          "base_uri": "https://localhost:8080/",
          "height": 448
        },
        "outputId": "e4af6655-a63d-43e3-cf2f-510f91e9c66e"
      },
      "outputs": [
        {
          "output_type": "execute_result",
          "data": {
            "text/plain": [
              "[<matplotlib.lines.Line2D at 0x7f2c40e6f340>]"
            ]
          },
          "metadata": {},
          "execution_count": 13
        },
        {
          "output_type": "display_data",
          "data": {
            "text/plain": [
              "<Figure size 640x480 with 1 Axes>"
            ],
            "image/png": "[encoded data removed]"
          },
          "metadata": {}
        }
      ],
      "source": [
        "# Plot losses\n",
        "train_loss = model_history.history['loss']\n",
        "val_loss = model_history.history['val_loss']\n",
        "\n",
        "plt.plot(train_loss)\n",
        "plt.plot(val_loss)"
      ]
    },
    {
      "cell_type": "code",
      "source": [
        "# Save the weights\n",
        "model.save_weights(f'./trained_models/focal_model/focal_loss')"
      ],
      "metadata": {
        "id": "wXGdC729BxDU"
      },
      "execution_count": 14,
      "outputs": []
    },
    {
      "cell_type": "code",
      "source": [
        "# Create a new model instance\n",
        "new_model = create_model(loss)\n",
        "\n",
        "# Restore the weights\n",
        "new_model.load_weights(f'./trained_models/focal_model/focal_loss')"
      ],
      "metadata": {
        "id": "zIUtoXtzBv0F",
        "colab": {
          "base_uri": "https://localhost:8080/"
        },
        "outputId": "a25d25f4-bc92-4ebd-f24a-2af87f51a7ad"
      },
      "execution_count": 15,
      "outputs": [
        {
          "output_type": "execute_result",
          "data": {
            "text/plain": [
              "<tensorflow.python.checkpoint.checkpoint.CheckpointLoadStatus at 0x7f2c40f29d50>"
            ]
          },
          "metadata": {},
          "execution_count": 15
        }
      ]
    },
    {
      "cell_type": "code",
      "source": [
        "pd.DataFrame(model_history.history).to_csv(f'./trained_models_history/focal_loss')"
      ],
      "metadata": {
        "id": "2aCnV2XFpcOQ"
      },
      "execution_count": 16,
      "outputs": []
    }
  ],
  "metadata": {
    "accelerator": "GPU",
    "colab": {
      "provenance": [],
      "gpuType": "T4",
      "include_colab_link": true
    },
    "gpuClass": "standard",
    "kernelspec": {
      "display_name": "Python 3",
      "name": "python3"
    },
    "language_info": {
      "name": "python"
    }
  },
  "nbformat": 4,
  "nbformat_minor": 0
}